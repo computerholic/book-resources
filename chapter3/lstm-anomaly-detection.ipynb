{
 "cells": [
  {
   "cell_type": "code",
   "execution_count": 1,
   "metadata": {},
   "outputs": [],
   "source": [
    "import numpy as np\n",
    "import pandas as pd\n",
    "from datetime import datetime\n",
    "import matplotlib.pyplot as plt\n",
    "import time\n",
    "%matplotlib inline"
   ]
  },
  {
   "cell_type": "code",
   "execution_count": 2,
   "metadata": {},
   "outputs": [
    {
     "name": "stderr",
     "output_type": "stream",
     "text": [
      "Using TensorFlow backend.\n"
     ]
    }
   ],
   "source": [
    "from keras.models import Sequential\n",
    "from keras.layers.recurrent import LSTM\n",
    "from keras.layers.core import Dense, Activation, Dropout"
   ]
  },
  {
   "cell_type": "code",
   "execution_count": 3,
   "metadata": {},
   "outputs": [],
   "source": [
    "epochs = 3\n",
    "batch_size = 50"
   ]
  },
  {
   "cell_type": "code",
   "execution_count": 4,
   "metadata": {},
   "outputs": [],
   "source": [
    "# Each training data point will be length 100-1,\n",
    "# since the last value in each sequence is the label\n",
    "sequence_length = 100"
   ]
  },
  {
   "cell_type": "code",
   "execution_count": 5,
   "metadata": {},
   "outputs": [],
   "source": [
    "def generate_model():\n",
    "\n",
    "    model = Sequential()\n",
    "\n",
    "    # First LSTM layer defining the input sequence length\n",
    "    model.add(LSTM(input_shape=(sequence_length-1, 1),\n",
    "                   units=32,\n",
    "                   return_sequences=True))\n",
    "    model.add(Dropout(0.2))\n",
    "\n",
    "    # Second LSTM layer with 128 units\n",
    "    model.add(LSTM(units=128,\n",
    "                   return_sequences=True))\n",
    "    model.add(Dropout(0.2))\n",
    "\n",
    "    # Third LSTM layer with 100 units\n",
    "    model.add(LSTM(units=100,\n",
    "                   return_sequences=False))\n",
    "    model.add(Dropout(0.2))\n",
    "\n",
    "    # Densely-connected output layer with the linear activation function\n",
    "    model.add(Dense(units=1))\n",
    "    model.add(Activation('linear'))\n",
    "\n",
    "    model.compile(loss='mean_squared_error', optimizer='rmsprop')\n",
    "    \n",
    "    return model"
   ]
  },
  {
   "cell_type": "code",
   "execution_count": 6,
   "metadata": {},
   "outputs": [],
   "source": [
    "def normalize(result):\n",
    "    result_mean = result.mean()\n",
    "    result_std = result.std()\n",
    "    result -= result_mean\n",
    "    result /= result_std\n",
    "    return result, result_mean"
   ]
  },
  {
   "cell_type": "code",
   "execution_count": 7,
   "metadata": {},
   "outputs": [],
   "source": [
    "def prepare_data(data, train_start, train_end, test_start, test_end):\n",
    "    print(\"Length of Data\", len(data))\n",
    "\n",
    "    # training data\n",
    "    print(\"Creating training data...\")\n",
    "\n",
    "    result = []\n",
    "    for index in range(train_start, train_end - sequence_length):\n",
    "        result.append(data[index: index + sequence_length])\n",
    "    result = np.array(result)\n",
    "    result, result_mean = normalize(result)\n",
    "\n",
    "    print(\"Training data shape  : \", result.shape)\n",
    "\n",
    "    train = result[train_start:train_end, :]\n",
    "    np.random.shuffle(train)\n",
    "    X_train = train[:, :-1]\n",
    "    y_train = train[:, -1]\n",
    "\n",
    "    # test data\n",
    "    print(\"Creating test data...\")\n",
    "\n",
    "    result = []\n",
    "    for index in range(test_start, test_end - sequence_length):\n",
    "        result.append(data[index: index + sequence_length])\n",
    "    result = np.array(result)\n",
    "    result, result_mean = normalize(result)\n",
    "\n",
    "    print(\"Test data shape  : {}\".format(result.shape))\n",
    "\n",
    "    X_test = result[:, :-1]\n",
    "    y_test = result[:, -1]\n",
    "\n",
    "    print(\"Shape X_train\", np.shape(X_train))\n",
    "    print(\"Shape X_test\", np.shape(X_test))\n",
    "\n",
    "    X_train = np.reshape(X_train, (X_train.shape[0], X_train.shape[1], 1))\n",
    "    X_test = np.reshape(X_test, (X_test.shape[0], X_test.shape[1], 1))\n",
    "\n",
    "    return X_train, y_train, X_test, y_test"
   ]
  },
  {
   "cell_type": "code",
   "execution_count": 8,
   "metadata": {},
   "outputs": [],
   "source": [
    "def run(model=None, data=None):\n",
    "    global_start_time = time.time()\n",
    "\n",
    "    print('Loading data... ')\n",
    "    data_b = pd.read_csv('datasets/cpu-utilization/cpu-full-b.csv',\n",
    "                         parse_dates=[0], infer_datetime_format=True)\n",
    "    data = data_b['cpu'].as_matrix()\n",
    "\n",
    "    # train on first 700 samples and test on next 300 samples (test set has anomaly)\n",
    "    X_train, y_train, X_test, y_test = prepare_data(data, 0, 600, 400, 660)\n",
    "\n",
    "    if model is None:\n",
    "        model = generate_model()\n",
    "\n",
    "    try:\n",
    "        print(\"Training...\")\n",
    "        model.fit(\n",
    "                X_train, y_train,\n",
    "                batch_size=batch_size, epochs=epochs, validation_split=0.05)\n",
    "        print(\"Predicting...\")\n",
    "        predicted = model.predict(X_test)\n",
    "        print(\"Reshaping predicted\")\n",
    "        predicted = np.reshape(predicted, (predicted.size,))\n",
    "    except KeyboardInterrupt:\n",
    "        print(\"prediction exception\")\n",
    "        print('Training duration:{}'.format(time.time() - global_start_time))\n",
    "        return model, y_test, 0\n",
    "\n",
    "    try:\n",
    "        plt.figure(figsize=(20,8))\n",
    "        plt.plot(y_test[:len(y_test)], 'b', label='Observed')\n",
    "        plt.plot(predicted[:len(y_test)], 'g', label='Predicted')\n",
    "        plt.plot(((y_test - predicted) ** 2), 'r', label='Root-mean-square deviation')\n",
    "        plt.legend()\n",
    "        plt.show()\n",
    "    except Exception as e:\n",
    "        print(\"plotting exception\")\n",
    "        print(str(e))\n",
    "    print('Training duration:{}'.format(time.time() - global_start_time))\n",
    "\n",
    "    return model, y_test, predicted"
   ]
  },
  {
   "cell_type": "code",
   "execution_count": 9,
   "metadata": {},
   "outputs": [
    {
     "name": "stdout",
     "output_type": "stream",
     "text": [
      "Loading data... \n",
      "Length of Data 660\n",
      "Creating training data...\n",
      "Training data shape  :  (500, 100)\n",
      "Creating test data...\n",
      "Test data shape  : (160, 100)\n",
      "Shape X_train (500, 99)\n",
      "Shape X_test (160, 99)\n"
     ]
    },
    {
     "name": "stderr",
     "output_type": "stream",
     "text": [
      "/Users/mac7/opt/anaconda3/envs/myenvpy/lib/python3.7/site-packages/ipykernel_launcher.py:7: FutureWarning: Method .as_matrix will be removed in a future version. Use .values instead.\n",
      "  import sys\n"
     ]
    },
    {
     "name": "stdout",
     "output_type": "stream",
     "text": [
      "Training...\n",
      "Train on 475 samples, validate on 25 samples\n",
      "Epoch 1/3\n",
      "475/475 [==============================] - 3s 6ms/step - loss: 0.3949 - val_loss: 0.2349\n",
      "Epoch 2/3\n",
      "475/475 [==============================] - 2s 4ms/step - loss: 0.2090 - val_loss: 0.5448\n",
      "Epoch 3/3\n",
      "475/475 [==============================] - 2s 4ms/step - loss: 0.2224 - val_loss: 0.2016\n",
      "Predicting...\n",
      "Reshaping predicted\n"
     ]
    },
    {
     "data": {
      "image/png": "[encoded data removed]",
      "text/plain": [
       "<Figure size 1440x576 with 1 Axes>"
      ]
     },
     "metadata": {
      "needs_background": "light"
     },
     "output_type": "display_data"
    },
    {
     "name": "stdout",
     "output_type": "stream",
     "text": [
      "Training duration:8.776865005493164\n"
     ]
    }
   ],
   "source": [
    "model, y_test, predicted = run()"
   ]
  },
  {
   "cell_type": "code",
   "execution_count": null,
   "metadata": {},
   "outputs": [],
   "source": []
  }
 ],
 "metadata": {
  "kernelspec": {
   "display_name": "Python 3",
   "language": "python",
   "name": "python3"
  },
  "language_info": {
   "codemirror_mode": {
    "name": "ipython",
    "version": 3
   },
   "file_extension": ".py",
   "mimetype": "text/x-python",
   "name": "python",
   "nbconvert_exporter": "python",
   "pygments_lexer": "ipython3",
   "version": "3.7.4"
  }
 },
 "nbformat": 4,
 "nbformat_minor": 2
}
